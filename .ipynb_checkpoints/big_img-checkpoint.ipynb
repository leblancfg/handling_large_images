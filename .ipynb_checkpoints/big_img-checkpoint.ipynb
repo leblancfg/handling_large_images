{
 "cells": [
  {
   "cell_type": "markdown",
   "metadata": {},
   "source": [
    "# Processing Big Images\n",
    "The goal of this notebook is to get image statistics for very large images, typically GeoTIFFs. The files are in the order of 1 - 4 GB. Anything bigger would actually need to be stored in another filetype (see [bigTIFF](http://www.simplesystems.org/libtiff/bigtiffpr.html)). We find a way to read the image in memory, and perform our analysis.\n",
    "\n",
    "In this case, let's start off with a very basic operation, and just assume we want to get the average pixel value for every pixel column along the image, given that all the image pixels in the comparison are aligned in the same way:\n",
    "\n",
    "|Header   | Col 1 | Col 2  | Col 3  | Col 4  | ...   |\n",
    "|---------|-------|--------|--------|--------|-------|\n",
    "|Row 1    | 0.3   | 0.2    | 0.1    | 0.8    | ...   |\n",
    "|Row 2    | 0.1   | 0.6    | 0.2    | 0.4    | ...   |\n",
    "|Row 3    | 0.2   | 0.2    | 0.2    | 0.2    | ...   |\n",
    "|...      | ...   | ...    | ...    | ...    | ...   |\n",
    "|*Average*|*0.2*  |*0.3333*|*0.1333*|*0.4666*| ...   |\n",
    "\n",
    "It's a simple enough operation, but the size of the image is such that our standard approach must be modified."
   ]
  },
  {
   "cell_type": "markdown",
   "metadata": {},
   "source": [
    "## Test Image\n",
    "For our testing purposes, let's use a large satellite image that's freely available for download on the web. In our case, we've downloaded a [sample image from Digital Globe](http://www.digitalglobe.com/product-samples), one of the largest commercial EOI suppliers. It is accessible [for download here](http://www.digitalglobe.com/resources/product-samples/basic-satellite-imagery#imagery-sample-modal).\n",
    "\n",
    "![Thumbnail of Digital Globe sample](https://dg-cms-uploads-production.s3.amazonaws.com/uploads/imagery_product_category/featured_image/5/small_Basic-satellite-Imagery.jpg)"
   ]
  },
  {
   "cell_type": "markdown",
   "metadata": {},
   "source": [
    "## NumPy\n",
    "[NumPy](http://www.numpy.org/) is the de-facto standard for manipulating array-type data in Python, especially used for scientific purposes. It is built [on top of C and FORTRAN](https://github.com/numpy/numpy), and offer simple Python bindings to work with data with vectorized operations. It gets its speed and memory efficiency by allowing series and arrays to contain data that is of one type only, be that integer, float, etc. Comparatively, a Python list might contain a mix of strings, ints, lists, etc. and must make a type check every time it needs to perform an action.\n",
    "\n",
    "Ultimately, this is the format in which we will want our image to be in, in order to perform fast operations:"
   ]
  },
  {
   "cell_type": "code",
   "execution_count": 1,
   "metadata": {
    "collapsed": false
   },
   "outputs": [
    {
     "name": "stdout",
     "output_type": "stream",
     "text": [
      "Column means: [ 1.  2.  3.  4.  5.]\n",
      "Row means   : [ 3.  3.  3.  3.  3.]\n"
     ]
    }
   ],
   "source": [
    "import numpy as np\n",
    "data = np.array([[1, 2, 3, 4, 5],\n",
    "                 [1, 2, 3, 4, 5],\n",
    "                 [1, 2, 3, 4, 5],\n",
    "                 [1, 2, 3, 4, 5],\n",
    "                 [1, 2, 3, 4, 5]])\n",
    "\n",
    "print('Column means:', data.mean(axis=0))\n",
    "print('Row means   :', data.mean(axis=1))"
   ]
  },
  {
   "cell_type": "markdown",
   "metadata": {},
   "source": [
    "Simple enough!"
   ]
  },
  {
   "cell_type": "markdown",
   "metadata": {},
   "source": [
    "## First attempt: Pillow\n",
    "Using [Pillow](https://python-pillow.org/) is a lightweight and straightforward way to read almost any image type into a NumPy array, and its wrappers are easy to use. Historically speaking, it is a fork of the now-unmaintained PIL (Python Imaging Library), it is basically the same package. Most of the code on [Stack Overflow](http://stackoverflow.com/questions/tagged/python-imaging-library?sort=frequent), etc. regarding PIL is also valid in Pillow."
   ]
  },
  {
   "cell_type": "code",
   "execution_count": 2,
   "metadata": {
    "collapsed": false
   },
   "outputs": [
    {
     "name": "stdout",
     "output_type": "stream",
     "text": [
      "Image filetype: Adobe TIFF\n",
      "Image pixel size: (31668, 28832)\n",
      "Image mode: I;16\n",
      "Image information: {'compression': 'raw', 'resolution': (1, 1)}\n",
      "Number of channels: 1\n"
     ]
    },
    {
     "name": "stderr",
     "output_type": "stream",
     "text": [
      "C:\\Users\\FLeblanc\\Anaconda3\\lib\\site-packages\\PIL\\Image.py:2274: DecompressionBombWarning: Image size (913051776 pixels) exceeds limit of 89478485 pixels, could be decompression bomb DOS attack.\n",
      "  DecompressionBombWarning)\n"
     ]
    }
   ],
   "source": [
    "from PIL import Image  # Pillow\n",
    "\n",
    "file = '../data/14AUG20010406-P1BS-053852449040_01_P001.TIF'\n",
    "\n",
    "raster = Image.open(file) # This only read the metadata\n",
    "print('Image filetype: {}'.format(raster.format_description))\n",
    "print('Image pixel size: {}'.format(raster.size))\n",
    "print('Image mode: {}'.format(raster.mode))\n",
    "print('Image information: {}'.format(raster.info))\n",
    "print('Number of channels: {}'.format(len(raster.getbands())))"
   ]
  },
  {
   "cell_type": "markdown",
   "metadata": {},
   "source": [
    "Well, that's not pretty, but in this case, we know we trust our source for the image, and it's safe to assume that we can ignore that error.\n",
    "\n",
    "Now let's try to now read our image and interact with it:"
   ]
  },
  {
   "cell_type": "code",
   "execution_count": 3,
   "metadata": {
    "collapsed": false
   },
   "outputs": [
    {
     "ename": "NameError",
     "evalue": "name 'image' is not defined",
     "output_type": "error",
     "traceback": [
      "\u001b[0;31m---------------------------------------------------------------------------\u001b[0m",
      "\u001b[0;31mMemoryError\u001b[0m                               Traceback (most recent call last)",
      "\u001b[0;32m<ipython-input-3-438892ac656e>\u001b[0m in \u001b[0;36m<module>\u001b[0;34m()\u001b[0m\n\u001b[1;32m      4\u001b[0m \u001b[1;32mtry\u001b[0m\u001b[1;33m:\u001b[0m\u001b[1;33m\u001b[0m\u001b[0m\n\u001b[0;32m----> 5\u001b[0;31m     \u001b[0mimage\u001b[0m \u001b[1;33m=\u001b[0m \u001b[0mnp\u001b[0m\u001b[1;33m.\u001b[0m\u001b[0marray\u001b[0m\u001b[1;33m(\u001b[0m\u001b[0mraster\u001b[0m\u001b[1;33m.\u001b[0m\u001b[0mgetdata\u001b[0m\u001b[1;33m(\u001b[0m\u001b[1;33m)\u001b[0m\u001b[1;33m)\u001b[0m\u001b[1;33m\u001b[0m\u001b[0m\n\u001b[0m\u001b[1;32m      6\u001b[0m     \u001b[0mprint\u001b[0m\u001b[1;33m(\u001b[0m\u001b[1;34m'Image took {} seconds to read.'\u001b[0m\u001b[1;33m.\u001b[0m\u001b[0mformat\u001b[0m\u001b[1;33m(\u001b[0m\u001b[0mint\u001b[0m\u001b[1;33m(\u001b[0m\u001b[0mtime\u001b[0m\u001b[1;33m(\u001b[0m\u001b[1;33m)\u001b[0m \u001b[1;33m-\u001b[0m \u001b[0mt0\u001b[0m\u001b[1;33m)\u001b[0m\u001b[1;33m)\u001b[0m\u001b[1;33m)\u001b[0m\u001b[1;33m\u001b[0m\u001b[0m\n",
      "\u001b[0;31mMemoryError\u001b[0m: ",
      "\nDuring handling of the above exception, another exception occurred:\n",
      "\u001b[0;31mNameError\u001b[0m                                 Traceback (most recent call last)",
      "\u001b[0;32m<ipython-input-3-438892ac656e>\u001b[0m in \u001b[0;36m<module>\u001b[0;34m()\u001b[0m\n\u001b[1;32m      7\u001b[0m \u001b[1;32mfinally\u001b[0m\u001b[1;33m:\u001b[0m\u001b[1;33m\u001b[0m\u001b[0m\n\u001b[1;32m      8\u001b[0m     \u001b[0mraster\u001b[0m\u001b[1;33m.\u001b[0m\u001b[0mclose\u001b[0m\u001b[1;33m(\u001b[0m\u001b[1;33m)\u001b[0m\u001b[1;33m\u001b[0m\u001b[0m\n\u001b[0;32m----> 9\u001b[0;31m     \u001b[1;32mdel\u001b[0m \u001b[0mimage\u001b[0m  \u001b[1;31m# clear back the memory\u001b[0m\u001b[1;33m\u001b[0m\u001b[0m\n\u001b[0m\u001b[1;32m     10\u001b[0m \u001b[1;33m\u001b[0m\u001b[0m\n\u001b[1;32m     11\u001b[0m \u001b[0mprint\u001b[0m\u001b[1;33m(\u001b[0m\u001b[0mimage\u001b[0m\u001b[1;33m.\u001b[0m\u001b[0mshape\u001b[0m\u001b[1;33m)\u001b[0m\u001b[1;33m\u001b[0m\u001b[0m\n",
      "\u001b[0;31mNameError\u001b[0m: name 'image' is not defined"
     ]
    }
   ],
   "source": [
    "from time import time\n",
    "t0 = time()\n",
    "\n",
    "try:\n",
    "    image = np.array(raster.getdata())\n",
    "    print('Image took {} seconds to read.'.format(int(time() - t0)))\n",
    "finally:\n",
    "    raster.close()\n",
    "    del image  # clear back the memory\n",
    "    \n",
    "print(image.shape)\n",
    "\n",
    "# Generate image statistics\n",
    "col_avgs = image.mean(axis=0)\n",
    "print(col_avgs[0])"
   ]
  },
  {
   "cell_type": "markdown",
   "metadata": {},
   "source": [
    "As suspected, we're running out of memory. This is not exactly surprising, though. This machine is currently running on 4GB of RAM, and the TIF file size is around 1.6 GB. Creating an array from that data generates extra overhead for every pixel, and we're rapidly approaching our memory limit. We'll just need to go down another level."
   ]
  },
  {
   "cell_type": "code",
   "execution_count": 4,
   "metadata": {
    "collapsed": false
   },
   "outputs": [],
   "source": [
    "raster.close()"
   ]
  },
  {
   "cell_type": "markdown",
   "metadata": {},
   "source": [
    "## GDAL\n",
    "Instead, we can try importing the image with the [Geospatial Data Abstraction Layer](http://www.gdal.org/). GDAL is one of the oldest geoscience-related codebases written for Python, and contains tools to handle large EO imagery.\n",
    "\n",
    "It does not come pre-packaged with the Anaconda Python distribution (see Notes below), but can be easily installed in the terminal (or cmd.exe in Windows) with:\n",
    "\n",
    "    $ conda install -c conda-forge gdal"
   ]
  },
  {
   "cell_type": "code",
   "execution_count": 5,
   "metadata": {
    "collapsed": false
   },
   "outputs": [
    {
     "data": {
      "text/plain": [
       "{'AREA_OR_POINT': 'Area',\n",
       " 'TIFFTAG_COPYRIGHT': '(C) COPYRIGHT 2014 DigitalGlobe, Inc., Longmont CO USA 80503',\n",
       " 'TIFFTAG_DATETIME': '2014:09:05 16:53:54',\n",
       " 'TIFFTAG_IMAGEDESCRIPTION': '{\\n  bandList = \\n  [\\n    5;\\n  ]\\n}',\n",
       " 'TIFFTAG_MAXSAMPLEVALUE': '1116',\n",
       " 'TIFFTAG_MINSAMPLEVALUE': '117'}"
      ]
     },
     "execution_count": 5,
     "metadata": {},
     "output_type": "execute_result"
    }
   ],
   "source": [
    "import gdal, gdalconst\n",
    "\n",
    "raster = gdal.Open(file, gdalconst.GA_ReadOnly)\n",
    "raster.GetMetadata()"
   ]
  },
  {
   "cell_type": "markdown",
   "metadata": {},
   "source": [
    "We'll also monitor memory use. For this, we use the nice Python utilty called psutil. As above, it can be installed on the Anaconda platform with:\n",
    "\n",
    "    $ conda install -c conda-forge psutil"
   ]
  },
  {
   "cell_type": "code",
   "execution_count": 6,
   "metadata": {
    "collapsed": false
   },
   "outputs": [
    {
     "name": "stdout",
     "output_type": "stream",
     "text": [
      "Image file size:  1.7 GB\n",
      "Peak memory use for file read:  1.94 GB\n",
      "\n",
      "Image read in 48 seconds.\n",
      "Image size in pixels:  (28832, 31668)\n",
      "Image (0, 0) sample value:  465\n"
     ]
    }
   ],
   "source": [
    "import os\n",
    "import psutil\n",
    "\n",
    "process = psutil.Process(os.getpid())\n",
    "t0 = time()\n",
    "\n",
    "\"\"\"From ReadAsArray() docstring:\n",
    "Reading a chunk of a GDAL band into a numpy array. The optional (buf_xsize,buf_ysize,buf_type)\n",
    "parameters should generally not be specified if buf_obj is specified. The array is returned\"\"\"\n",
    "try:\n",
    "    \n",
    "    image = raster.ReadAsArray()\n",
    "    \n",
    "    print('Image file size: ', round(os.path.getsize(file) / 1024**3, 2), 'GB')\n",
    "    print('Peak memory use for file read: ', round(process.memory_info().rss / 1024**3, 2), 'GB')\n",
    "    print()\n",
    "    print('Image read in {} seconds.'.format(int(time() - t0)))\n",
    "    print('Image size in pixels: ', image.shape)\n",
    "    print('Image (0, 0) sample value: ', image[0, 0])\n",
    "\n",
    "    # Create array of column averages\n",
    "    col_avgs = image.mean(axis=0)\n",
    "\n",
    "    # Make sure our array is the right size\n",
    "    assert col_avgs.shape == (image.shape[1],)\n",
    "\n",
    "finally:\n",
    "    del image  # Clear back memory"
   ]
  },
  {
   "cell_type": "markdown",
   "metadata": {},
   "source": [
    "## Plotting our results\n",
    "So that did the trick! And surprisingly in just 16 seconds, to boot. Let's see what our column averages look like:"
   ]
  },
  {
   "cell_type": "code",
   "execution_count": 7,
   "metadata": {
    "collapsed": false
   },
   "outputs": [
    {
     "data": {
      "image/png": "[encoded data removed]",
      "text/plain": [
       "<matplotlib.figure.Figure at 0x7549b70>"
      ]
     },
     "metadata": {},
     "output_type": "display_data"
    }
   ],
   "source": [
    "%matplotlib inline\n",
    "from matplotlib import pyplot as plt\n",
    "\n",
    "plt.plot(col_avgs)\n",
    "\n",
    "plt.xlabel('Sample column (px)')\n",
    "plt.ylabel('Column average value (reflectance)')\n",
    "plt.title('Sample value averages per image column for image:\\n14AUG20010406-P1BS-053852449040_01_P001.TIF\\n')\n",
    "plt.grid(True)\n",
    "plt.show()"
   ]
  },
  {
   "cell_type": "markdown",
   "metadata": {},
   "source": [
    "## Export as CSV\n",
    "Finally, we'll need to export our results as a csv. NumPy makes our life easy:\n"
   ]
  },
  {
   "cell_type": "code",
   "execution_count": 8,
   "metadata": {
    "collapsed": false
   },
   "outputs": [],
   "source": [
    "col_avgs.tofile(file='column_averages.csv', sep=',')"
   ]
  },
  {
   "cell_type": "markdown",
   "metadata": {},
   "source": [
    "## Background\n",
    "Here are a few posts on the subject, found while researching the subject:\n",
    "  * [How to perform a sequence of a very large image averaging in python / OpenCV?](http://stackoverflow.com/questions/27000663/how-to-perform-a-sequence-of-a-very-large-image-averaging-in-python-opencv)\n",
    "  * [Read big image file as an array in python](http://stackoverflow.com/questions/11585699/read-big-image-file-as-an-array-in-python)\n",
    "  * [VIPS, library for scientific image processing (with Python API)](http://www.vips.ecs.soton.ac.uk/index.php?title=VIPS)"
   ]
  },
  {
   "cell_type": "markdown",
   "metadata": {},
   "source": [
    "## Notes on Dependencies\n",
    "This notebook was built using the latest (as of writing) [Anaconda3 distribution](https://www.continuum.io/downloads) from Continuum Analytics. It is free of charge, can be installed without admin priviledges for Windows users. It is slowly becoming the standard distribution for scientific Python use cases, as it:\n",
    "\n",
    "1. comes with many batteries included (scientific packages), and\n",
    "2. comes with its own package manager, *conda*, similar to pip, but ships binaries that are tested on all major platforms."
   ]
  },
  {
   "cell_type": "code",
   "execution_count": 10,
   "metadata": {
    "collapsed": false
   },
   "outputs": [
    {
     "data": {
      "text/plain": [
       "'3.6.0 |Anaconda custom (64-bit)| (default, Dec 23 2016, 11:57:41) [MSC v.1900 64 bit (AMD64)]'"
      ]
     },
     "execution_count": 10,
     "metadata": {},
     "output_type": "execute_result"
    }
   ],
   "source": [
    "import sys\n",
    "sys.version"
   ]
  }
 ],
 "metadata": {
  "kernelspec": {
   "display_name": "Python [default]",
   "language": "python",
   "name": "python3"
  },
  "language_info": {
   "codemirror_mode": {
    "name": "ipython",
    "version": 3
   },
   "file_extension": ".py",
   "mimetype": "text/x-python",
   "name": "python",
   "nbconvert_exporter": "python",
   "pygments_lexer": "ipython3",
   "version": "3.6.0"
  }
 },
 "nbformat": 4,
 "nbformat_minor": 2
}
