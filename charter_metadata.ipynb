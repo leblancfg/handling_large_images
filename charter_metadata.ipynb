{
 "cells": [
  {
   "cell_type": "markdown",
   "metadata": {},
   "source": [
    "# RADARSAT-2 Charter Images\n",
    "*Taken from document: **Packaging RADARSAT Acquisitions for the Charter.docx** *\n",
    "\n",
    "As a part of the International Charter, Space and Major Disasters’ tools, the [Charter’s website](https://www.disasterscharter.org/web/guest/home) offers to the scientific community and general public an access to the images captured and metadata in the course of the activations. This is done through an interface called CGT ([Charter Geographic Tool](http://cgt.prod.esaportal.eu/charterng/#wmdr53ctcr1j:7)) which allows access to this information.\n",
    "\n",
    "<img title=\"Charter Website\" src=\"charter-website.png\" width=600>\n",
    "\n",
    "As one of the Charter’s members, the **CSA must populate this database** whenever we provide acquisitions in response to the requests we receive. This includes thumbnail- and quicklook-sized versions of the imagery we acquire, and needs to be submitted independently by the Agency.\n",
    "\n",
    "To do this, we must take a large GEOTIFF and create two auto-contrasted, resized versions from it."
   ]
  },
  {
   "cell_type": "markdown",
   "metadata": {},
   "source": [
    "## Generate metadata file (XML)"
   ]
  },
  {
   "cell_type": "markdown",
   "metadata": {},
   "source": [
    "### Parsing\n",
    "The file `EOP.xml` can be populated from the metadata found in each product, in a file called `product.xml`.\n",
    "\n",
    "|Variable name                                                                                                       |  Example  |\n",
    "|--------------------------------------------------------------------------------------------------------------------|-----------|\n",
    "|`<eop:parentIdentifier>`                                                                                            |`urn:ogc:def:EOP:CSA:RSAT1`|\n",
    "|`<eop:status>`                                                                                                      |`ARCHIVED`\n",
    "|`<gml:TimePeriod><gml:beginPosition>`                                                                               |`2008-09-02T11:59:12.145Z`\n",
    "|`<gml:TimePeriod><gml:endPosition>`                                                                                 |`2008-09-02T11:59:12.145Z`\n",
    "|`<eop:Platform><eop:shortName>`                                                                                     |`RADARSAT1`|\n",
    "|`<eop:Instrument><eop:shortName>`                                                                                   |`SAR_RAD_1`|\n",
    "|`<eop:Sensor><eop:OperationalMode>`                                                                                 |`FINE`|\n",
    "|`<gml:Polygon><gml:exterior><gml:LinearRing>`   `<gml:posList>`                                                     |`30.52302 -90.27364 30.36339 -89.19232 28.97988 -89.47291 29.14067 -90.53881 30.52302 -90.27364`\n",
    "|`<eop:browse><eop:BrowseInformation>`   `<eop:type>`                                                                |`THUMBNAIL`|\n",
    "|`<eop:referenceSystemIdentifier   codeSpace=\"EPSG\">`EPSG:4326`</eop:referenceSystemIdentifier>`   `<eop:fileName>`  |`ICON.JPG`|\n",
    "|`<eop:BrowseInformation><eop:type>`                                                                                 |`QUICKLOOK`|\n",
    "|`<eop:referenceSystemIdentifier   codeSpace=\"EPSG\">`EPSG:4326`</eop:referenceSystemIdentifier>`     `<eop:fileName>`|`PREVIEW.JPG`|\n",
    "\n",
    "Further details can be found in the COS-2 documentation (`COS-CSA-ICD.doc`), \n",
    "\n",
    "Fortunately, all attributes needed can be taken directly by parsing `product.xml` except for `<eop:status>`, which can be inferred by the difference in the following two dates:\n",
    "\n",
    "~~~xml\n",
    "<sourceAttributes>\n",
    "    <rawDataStartTime>2009-12-01T09:04:42.605591Z</rawDataStartTime>\n",
    "~~~\n",
    "\n",
    "vs.\n",
    "\n",
    "~~~xml\n",
    "<imageGenerationParameters>\n",
    "    <generalProcessingInformation>\n",
    "        <processingTime>2017-06-08T13:53:41.000000Z</processingTime>\n",
    "~~~\n",
    "\n",
    "is clearly an archive image, as it was processed almost 8 years after its original acquisition."
   ]
  },
  {
   "cell_type": "code",
   "execution_count": 48,
   "metadata": {
    "collapsed": false
   },
   "outputs": [
    {
     "name": "stdout",
     "output_type": "stream",
     "text": [
      "<satellite>RADARSAT-2</satellite>\n",
      "\n",
      "---\n",
      "\n",
      "<LookAt>\n",
      "<longitude>91.871121227639</longitude>\n",
      "<latitude>22.3365427178933</latitude>\n",
      "<range>75000</range>\n",
      "</LookAt>\n"
     ]
    }
   ],
   "source": [
    "from bs4 import BeautifulSoup\n",
    "product_file = '../data/charter/product.xml'\n",
    "product_kml = '../data/charter/product.kml'\n",
    "\n",
    "with open(product_file) as f:\n",
    "    xml_soup = BeautifulSoup(f, 'xml')\n",
    "print(xml_soup.satellite)\n",
    "print('\\n---\\n')\n",
    "with open(product_kml) as k:\n",
    "    kml_soup = BeautifulSoup(k, 'xml')\n",
    "print(kml_soup.LookAt)"
   ]
  },
  {
   "cell_type": "markdown",
   "metadata": {},
   "source": [
    "We need to construct a lookup table, so that we can map the COS-2 variables to the contents of the `product.xml` tags. I'll restrict it to RADARSAT-2 images only for now, as R1 imagery hasn't been used in Charter calls for over 7 years now."
   ]
  },
  {
   "cell_type": "code",
   "execution_count": 52,
   "metadata": {
    "collapsed": false
   },
   "outputs": [],
   "source": [
    "import datetime\n",
    "\n",
    "\"\"\"beam_modes_table = {\n",
    "    'FINE'\n",
    "    'STANDARD'\n",
    "    'WIDE'\n",
    "    'SCANSAR_NARROW'\n",
    "    'SCANSAR_WIDE'\n",
    "    'SCANSAR_WIDE'\n",
    "    'SCANSAR_NARROW'\n",
    "    'WIDE'\n",
    "    'STANDARD'\n",
    "    'FINE'\n",
    "    'WIDE_FINE'\n",
    "    'MULTI_LOOK_FINE'\n",
    "    'WIDE_MULTI_LOOK_FINE'\n",
    "    'ULTRA_FINE'\n",
    "    'WIDE_ULTRA_FINE'\n",
    "    'SPOTLIGHT'\"\"\"\n",
    "\n",
    "def utc(string):\n",
    "    \"\"\"Given a string representing ISO 8601 time (I think?),\n",
    "    returns datetime object.\n",
    "    str -> datetime\"\"\"\n",
    "    pattern = \"%Y-%m-%dT%H:%M:%S.%fZ\"\n",
    "    return datetime.datetime.strptime(string, pattern)\n",
    "    \n",
    "def status(start_time, end_time):\n",
    "    \"\"\"Compares the `rawDataStartTime` to the `processingTime`\n",
    "    from a `product.xml` file, returns either 'ARCHIVED' or\n",
    "    'PROGRAMMED'. Arbitrary cutoff date is 3 days.\n",
    "    \n",
    "    dt, dt -> str\n",
    "    \"\"\"\n",
    "    days = 3\n",
    "    duration = (end_time - start_time).seconds\n",
    "    if duration > days * 86400:\n",
    "        return 'ARCHIVED'\n",
    "    return 'PROGRAMMED'\n",
    "\n",
    "\n",
    "beam_mode = ''\n",
    "start_time = utc(xml_soup.rawDataStartTime.string)\n",
    "end_time = utc(xml_soup.zeroDopplerTimeLastLine.string)\n",
    "processing_time = utc(xml_soup.processingTime.string)\n",
    "\n",
    "# The following encodes digits as '9.163425407653519e+01', might be problematic\n",
    "region = kml_soup.LinearRing.coordinates.string\n",
    "\n",
    "metadata_table_R2 = {\n",
    "    '<eop:parentIdentifier>' : 'urn:ogc:def:EOP:CSA:RSAT2',\n",
    "    '<eop:status>' : status(start_time, processing_time),\n",
    "    '<gml:TimePeriod><gml:beginPosition>' : start_time,\n",
    "    '<gml:TimePeriod><gml:endPosition>' : end_time,\n",
    "    '<eop:Platform><eop:shortName>' : 'RADARSAT2',\n",
    "    '<eop:Instrument><eop:shortName>' : 'SAR_RAD_2',\n",
    "    '<eop:Sensor><eop:OperationalMode>' : beam_mode,\n",
    "    '<gml:Polygon><gml:exterior><gml:LinearRing> <gml:posList>' : region,\n",
    "    '<eop:browse><eop:BrowseInformation> <eop:type>' : 'THUMBNAIL',\n",
    "    '<eop:referenceSystemIdentifier   codeSpace=\"EPSG\">EPSG:4326</eop:referenceSystemIdentifier> <eop:fileName>' : 'ICON.JPG',\n",
    "    '<eop:BrowseInformation><eop:type>' : 'QUICKLOOK',\n",
    "    '<eop:referenceSystemIdentifier   codeSpace=\"EPSG\">EPSG:4326</eop:referenceSystemIdentifier> <eop:fileName>' : 'PREVIEW.JPG'\n",
    "}"
   ]
  },
  {
   "cell_type": "markdown",
   "metadata": {},
   "source": [
    "## Create imagery thumbnails"
   ]
  },
  {
   "cell_type": "markdown",
   "metadata": {},
   "source": [
    "### Loading the image"
   ]
  },
  {
   "cell_type": "code",
   "execution_count": 1,
   "metadata": {
    "collapsed": false
   },
   "outputs": [
    {
     "name": "stdout",
     "output_type": "stream",
     "text": [
      "GDAL version 2.2.0\n"
     ]
    }
   ],
   "source": [
    "import os\n",
    "from osgeo import gdal, gdalconst\n",
    "from time import time\n",
    "\n",
    "print('GDAL version', gdal.__version__)"
   ]
  },
  {
   "cell_type": "code",
   "execution_count": 2,
   "metadata": {
    "collapsed": false
   },
   "outputs": [
    {
     "name": "stdout",
     "output_type": "stream",
     "text": [
      "Image file size:  1.35 GB\n"
     ]
    }
   ],
   "source": [
    "file = '../data/charter/imagery_HH.TIF'\n",
    "print('Image file size: ', round(os.path.getsize(file) / 1024**3, 2), 'GB')"
   ]
  },
  {
   "cell_type": "code",
   "execution_count": 3,
   "metadata": {
    "collapsed": false
   },
   "outputs": [
    {
     "data": {
      "text/plain": [
       "{'AREA_OR_POINT': 'Area',\n",
       " 'TIFFTAG_DATETIME': '2017:06:03 00:56:13',\n",
       " 'TIFFTAG_IMAGEDESCRIPTION': '{\\n  bandList = \\n  [\\n    1;\\n  ]\\n}',\n",
       " 'TIFFTAG_MAXSAMPLEVALUE': '65535',\n",
       " 'TIFFTAG_MINSAMPLEVALUE': '0'}"
      ]
     },
     "execution_count": 3,
     "metadata": {},
     "output_type": "execute_result"
    }
   ],
   "source": [
    "raster = gdal.Open(file, gdalconst.GA_ReadOnly)\n",
    "raster.GetMetadata()"
   ]
  },
  {
   "cell_type": "code",
   "execution_count": 4,
   "metadata": {
    "collapsed": false
   },
   "outputs": [
    {
     "name": "stdout",
     "output_type": "stream",
     "text": [
      "Image read in 41 seconds.\n",
      "Image size in pixels:  (26878, 26872)\n"
     ]
    }
   ],
   "source": [
    "t0 = time()\n",
    "image = raster.ReadAsArray()\n",
    "print('Image read in {} seconds.'.format(int(time() - t0)))\n",
    "print('Image size in pixels: ', image.shape)"
   ]
  },
  {
   "cell_type": "code",
   "execution_count": 7,
   "metadata": {
    "collapsed": true
   },
   "outputs": [],
   "source": [
    "import scipy\n",
    "resize = scipy.misc.imresize(arr, 500)"
   ]
  },
  {
   "cell_type": "markdown",
   "metadata": {},
   "source": [
    "## Applying auto-contrast\n",
    "GDAL has loaded a pure numpy array from the TIF, so all we need to do is to apply a linear function (as in [linear map](https://en.wikipedia.org/wiki/Linear_map)) that boosts the contrast."
   ]
  },
  {
   "cell_type": "code",
   "execution_count": 5,
   "metadata": {
    "collapsed": true
   },
   "outputs": [],
   "source": [
    "def auto_contrast(array):\n",
    "    \"\"\"Given a numpy array, performs \"\"\""
   ]
  },
  {
   "cell_type": "markdown",
   "metadata": {},
   "source": [
    "## Resizing to 500 and 100 px"
   ]
  },
  {
   "cell_type": "code",
   "execution_count": null,
   "metadata": {
    "collapsed": true
   },
   "outputs": [],
   "source": []
  },
  {
   "cell_type": "markdown",
   "metadata": {},
   "source": [
    "## Packaging & sending the metadata"
   ]
  },
  {
   "cell_type": "code",
   "execution_count": null,
   "metadata": {
    "collapsed": true
   },
   "outputs": [],
   "source": []
  },
  {
   "cell_type": "markdown",
   "metadata": {},
   "source": [
    "## Package and upload to COS-2 API"
   ]
  },
  {
   "cell_type": "code",
   "execution_count": null,
   "metadata": {
    "collapsed": true
   },
   "outputs": [],
   "source": []
  },
  {
   "cell_type": "markdown",
   "metadata": {},
   "source": [
    "## Notes on Dependencies\n",
    "This notebook was built using the latest (as of writing) [Anaconda3 distribution](https://www.continuum.io/downloads) from Continuum Analytics. It is free of charge and runs only for the local user, so can be installed without admin priviledges for Windows users. It is slowly becoming the standard distribution for scientific and engineering Python uses, as it:\n",
    "\n",
    "1. comes with many batteries included (scientific packages), and\n",
    "2. comes with its own package manager, *conda*, similar to pip, but ships binaries that are tested on all major platforms."
   ]
  },
  {
   "cell_type": "code",
   "execution_count": 6,
   "metadata": {
    "collapsed": false
   },
   "outputs": [
    {
     "data": {
      "text/plain": [
       "'3.6.0 |Anaconda custom (64-bit)| (default, Dec 23 2016, 11:57:41) [MSC v.1900 64 bit (AMD64)]'"
      ]
     },
     "execution_count": 6,
     "metadata": {},
     "output_type": "execute_result"
    }
   ],
   "source": [
    "import sys\n",
    "sys.version"
   ]
  }
 ],
 "metadata": {
  "kernelspec": {
   "display_name": "Python 3",
   "language": "python",
   "name": "python3"
  },
  "language_info": {
   "codemirror_mode": {
    "name": "ipython",
    "version": 3
   },
   "file_extension": ".py",
   "mimetype": "text/x-python",
   "name": "python",
   "nbconvert_exporter": "python",
   "pygments_lexer": "ipython3",
   "version": "3.6.0"
  }
 },
 "nbformat": 4,
 "nbformat_minor": 2
}
